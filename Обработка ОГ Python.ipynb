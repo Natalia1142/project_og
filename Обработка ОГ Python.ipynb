{
 "cells": [
  {
   "cell_type": "markdown",
   "id": "26c84cdf",
   "metadata": {},
   "source": [
    "# Обработка задержанных накладных с опасным грузом"
   ]
  },
  {
   "cell_type": "markdown",
   "id": "9a1dc321",
   "metadata": {},
   "source": [
    "# Предобработка"
   ]
  },
  {
   "cell_type": "markdown",
   "id": "83c66d15",
   "metadata": {},
   "source": [
    "## Загружаем библиотеки"
   ]
  },
  {
   "cell_type": "code",
   "execution_count": 1,
   "id": "8e75d44e",
   "metadata": {},
   "outputs": [],
   "source": [
    "import pandas as pd\n",
    "import matplotlib.pyplot as plt\n",
    "from plotly import graph_objects as go "
   ]
  },
  {
   "cell_type": "code",
   "execution_count": 2,
   "id": "1a11307e",
   "metadata": {},
   "outputs": [],
   "source": [
    "import warnings\n",
    "warnings.filterwarnings('ignore')"
   ]
  },
  {
   "cell_type": "markdown",
   "id": "1ea4d6fc",
   "metadata": {},
   "source": [
    "## Загружаем данные из Москвы"
   ]
  },
  {
   "cell_type": "code",
   "execution_count": 3,
   "id": "ff0b4d87",
   "metadata": {},
   "outputs": [],
   "source": [
    "data_msk=pd.read_excel(\"C:/Users/Natalya/Desktop/Отчеты по ОГ/msk.xlsx\")"
   ]
  },
  {
   "cell_type": "markdown",
   "id": "e2a7fea9",
   "metadata": {},
   "source": [
    "**Так как данные по каждому дню хранятся на разных листах, считываем названия листов, чтоб потом их объединить**"
   ]
  },
  {
   "cell_type": "code",
   "execution_count": 4,
   "id": "ad23d880",
   "metadata": {},
   "outputs": [],
   "source": [
    "sheet_names = pd.read_excel(\"C:/Users/Natalya/Desktop/Отчеты по ОГ/msk.xlsx\", sheet_name=None).keys()\n"
   ]
  },
  {
   "cell_type": "code",
   "execution_count": 5,
   "id": "70a48a61",
   "metadata": {},
   "outputs": [
    {
     "data": {
      "text/plain": [
       "dict_keys(['Автозаполнение', 'Не копировать(старый шаблон)', 'Шаблоны(1)', 'Шаблоны(2)', 'Заметки', 'Учетки ', 'Сегодня АХ', '23.08', 'Шаблон новый', 'ОГ Срочка', 'Лист134', 'Шаблон ог', '01.08', '02.08', '03.08', '04.08', '05.08', 'СЗ', '22.08', 'Шаблон АХ', '06.08', '07.08', '08.08', '21.08', '09.08', '10.08', '11.08', '12.08', '13.08', '14.08', '15.08', '16.08', '17.08', '18.08', '19.08', '20.08', '24.08', '25.08', '26.08', '27.08', '28.08', '29.08', '30.08', '31.08', 'ИМ асист', 'Сроки по областям', 'Первичный приход', 'Полки', 'Транзиты', 'Сроки доставки ', 'Сроки доставки эк4', 'Ключевые клиенты', 'Принимает не принимает ОГ', 'Принимает не принимает ОГ 2', 'Шаблон ог с ах', 'АХ 05.07', 'АХ 06.07', 'Кол-во груза', 'Закреплённые менеджеры', 'Проба 2'])"
      ]
     },
     "execution_count": 5,
     "metadata": {},
     "output_type": "execute_result"
    }
   ],
   "source": [
    "sheet_names"
   ]
  },
  {
   "cell_type": "markdown",
   "id": "b2004c39",
   "metadata": {},
   "source": [
    "**Отбираем только нужные для анализа листы и соединяем их в одну базу данных**"
   ]
  },
  {
   "cell_type": "code",
   "execution_count": 6,
   "id": "dae7e812",
   "metadata": {},
   "outputs": [],
   "source": [
    "date_list=[]\n",
    "for i in sheet_names:\n",
    "    if len(i)<6 and i!='Полки' and i!='СЗ':\n",
    "        date_list.append(i)"
   ]
  },
  {
   "cell_type": "code",
   "execution_count": 7,
   "id": "421562de",
   "metadata": {},
   "outputs": [],
   "source": [
    "df_msk = pd.DataFrame() \n",
    "for i in date_list:\n",
    "    sheet_names=pd.read_excel(\"C:/Users/Natalya/Desktop/Отчеты по ОГ/msk.xlsx\", sheet_name=i)\n",
    "    sheet_names['Дата']=i\n",
    "    sheet_names['Склад']=\"Мск\"\n",
    "    df_msk = pd.concat([df_msk, sheet_names]) "
   ]
  },
  {
   "cell_type": "markdown",
   "id": "9502de5d",
   "metadata": {},
   "source": [
    "## Загружаем данные из Санкт-Петербурга, Екатеринбурга и Новосибирска"
   ]
  },
  {
   "cell_type": "code",
   "execution_count": 8,
   "id": "3a29039f",
   "metadata": {},
   "outputs": [],
   "source": [
    "df_spb=pd.read_excel('C:/Users/Natalya/Desktop/Отчеты по ОГ/spb.xlsx',sheet_name='Август 2024')"
   ]
  },
  {
   "cell_type": "code",
   "execution_count": 9,
   "id": "b308e473",
   "metadata": {},
   "outputs": [],
   "source": [
    "df_spb[\"Склад\"]=\"Спб\""
   ]
  },
  {
   "cell_type": "code",
   "execution_count": 10,
   "id": "6687958b",
   "metadata": {},
   "outputs": [],
   "source": [
    "df_ekb=pd.read_excel('C:/Users/Natalya/Desktop/Отчеты по ОГ/ekb.xlsx',sheet_name='Август 24')"
   ]
  },
  {
   "cell_type": "code",
   "execution_count": 11,
   "id": "0902d122",
   "metadata": {},
   "outputs": [],
   "source": [
    "df_ekb[\"Склад\"]=\"Екб\""
   ]
  },
  {
   "cell_type": "code",
   "execution_count": 12,
   "id": "9898c739",
   "metadata": {},
   "outputs": [],
   "source": [
    "df_nsk=pd.read_excel('C:/Users/Natalya/Desktop/Отчеты по ОГ/nsk.xlsx')"
   ]
  },
  {
   "cell_type": "code",
   "execution_count": 13,
   "id": "dbab771a",
   "metadata": {},
   "outputs": [],
   "source": [
    "df_nsk[\"Склад\"]=\"Нск\""
   ]
  },
  {
   "cell_type": "code",
   "execution_count": 14,
   "id": "906e9d8a",
   "metadata": {},
   "outputs": [],
   "source": [
    "list_df=[df_msk,df_spb,df_nsk,df_ekb]"
   ]
  },
  {
   "cell_type": "markdown",
   "id": "1c18a90c",
   "metadata": {},
   "source": [
    "## Изучаем общую информацию, удаляем ненужные столбцы и переименовываем их, чтобы в дальнейшем соединить данные из таблиц разных городов."
   ]
  },
  {
   "cell_type": "markdown",
   "id": "d8fbdd33",
   "metadata": {},
   "source": [
    "**Изучаем данные из Москвы**"
   ]
  },
  {
   "cell_type": "code",
   "execution_count": 15,
   "id": "cdfbe243",
   "metadata": {},
   "outputs": [
    {
     "name": "stdout",
     "output_type": "stream",
     "text": [
      "<class 'pandas.core.frame.DataFrame'>\n",
      "Index: 29505 entries, 0 to 956\n",
      "Data columns (total 20 columns):\n",
      " #   Column                   Non-Null Count  Dtype  \n",
      "---  ------                   --------------  -----  \n",
      " 0   Unnamed: 0               29504 non-null  object \n",
      " 1   Номер заказа             5327 non-null   float64\n",
      " 2   Адресное хранение        25010 non-null  object \n",
      " 3   Причина задержки         16660 non-null  object \n",
      " 4   Описание вложения        16670 non-null  object \n",
      " 5   Ссылка на фото           16669 non-null  object \n",
      " 6   Плательщик               5327 non-null   object \n",
      " 7   Город владельца выручки  5327 non-null   object \n",
      " 8   Готовое СЗ               17818 non-null  object \n",
      " 9   Город получателя         5327 non-null   object \n",
      " 10  Первичный приход         5667 non-null   object \n",
      " 11  срок доставки            3282 non-null   float64\n",
      " 12  ШК места                 5327 non-null   object \n",
      " 13  Вес к оплате, кг         5327 non-null   float64\n",
      " 14  вспомогательно1          17849 non-null  object \n",
      " 15  вспомогательно2          0 non-null      float64\n",
      " 16  вспомогательно3          0 non-null      float64\n",
      " 17  вспомогательно4          0 non-null      float64\n",
      " 18  Дата                     29505 non-null  object \n",
      " 19  Склад                    29505 non-null  object \n",
      "dtypes: float64(6), object(14)\n",
      "memory usage: 4.7+ MB\n"
     ]
    }
   ],
   "source": [
    "df_msk.info()"
   ]
  },
  {
   "cell_type": "code",
   "execution_count": 16,
   "id": "3f060371",
   "metadata": {},
   "outputs": [],
   "source": [
    "df_msk.drop(['Unnamed: 0','Адресное хранение','Ссылка на фото','Город владельца выручки',\n",
    "                            'Готовое СЗ ','срок доставки','вспомогательно1', 'вспомогательно2',\n",
    "                            'вспомогательно3','вспомогательно4','Город получателя','Дата'], axis=1, inplace=True)"
   ]
  },
  {
   "cell_type": "code",
   "execution_count": 17,
   "id": "cd1f9b83",
   "metadata": {},
   "outputs": [],
   "source": [
    "df_msk.rename(columns = {'Номер заказа':'Накладная', 'ШК места':'Количество мест','Вес к оплате, кг':'Общий вес',\n",
    "                        'Первичный приход':'Подразделение','Плательщик':'Клиент'}, inplace = True )"
   ]
  },
  {
   "cell_type": "code",
   "execution_count": 18,
   "id": "b5219eeb",
   "metadata": {},
   "outputs": [],
   "source": [
    "df_msk=df_msk[['Склад','Накладная','Описание вложения','Причина задержки','Подразделение','Клиент','Общий вес']]"
   ]
  },
  {
   "cell_type": "markdown",
   "id": "97312982",
   "metadata": {},
   "source": [
    "**Изучаем данные из Санкт-Петербурга**"
   ]
  },
  {
   "cell_type": "code",
   "execution_count": 19,
   "id": "78dbe5e6",
   "metadata": {},
   "outputs": [
    {
     "name": "stdout",
     "output_type": "stream",
     "text": [
      "<class 'pandas.core.frame.DataFrame'>\n",
      "RangeIndex: 793 entries, 0 to 792\n",
      "Data columns (total 8 columns):\n",
      " #   Column             Non-Null Count  Dtype  \n",
      "---  ------             --------------  -----  \n",
      " 0   № накладной        793 non-null    int64  \n",
      " 1   Причина задержки   793 non-null    object \n",
      " 2   Описание вложения  793 non-null    object \n",
      " 3   Плательщик         793 non-null    object \n",
      " 4   Подразделение      793 non-null    object \n",
      " 5   ШК места           793 non-null    object \n",
      " 6   Вес к оплате, кг   793 non-null    float64\n",
      " 7   Склад              793 non-null    object \n",
      "dtypes: float64(1), int64(1), object(6)\n",
      "memory usage: 49.7+ KB\n"
     ]
    }
   ],
   "source": [
    "df_spb.info()"
   ]
  },
  {
   "cell_type": "code",
   "execution_count": 20,
   "id": "e0492adc",
   "metadata": {},
   "outputs": [],
   "source": [
    "df_spb.rename(columns = {'№ накладной':'Накладная', 'ШК места':'Количество мест','Вес к оплате, кг':'Общий вес','Плательщик':'Клиент'}, inplace = True )"
   ]
  },
  {
   "cell_type": "code",
   "execution_count": 21,
   "id": "3538f215",
   "metadata": {},
   "outputs": [],
   "source": [
    "df_spb=df_spb[['Склад','Накладная','Описание вложения','Причина задержки','Подразделение','Клиент','Общий вес']]"
   ]
  },
  {
   "cell_type": "markdown",
   "id": "4fb94c68",
   "metadata": {},
   "source": [
    "**Изучаем данные из Новосибирска**"
   ]
  },
  {
   "cell_type": "code",
   "execution_count": 22,
   "id": "15b25c20",
   "metadata": {},
   "outputs": [
    {
     "name": "stdout",
     "output_type": "stream",
     "text": [
      "<class 'pandas.core.frame.DataFrame'>\n",
      "RangeIndex: 78 entries, 0 to 77\n",
      "Data columns (total 8 columns):\n",
      " #   Column             Non-Null Count  Dtype \n",
      "---  ------             --------------  ----- \n",
      " 0   № накладной        78 non-null     int64 \n",
      " 1   Причина задержки   78 non-null     object\n",
      " 2   Описание вложения  78 non-null     object\n",
      " 3   Плательщик         77 non-null     object\n",
      " 4   Подразделение      75 non-null     object\n",
      " 5   ШК места           77 non-null     object\n",
      " 6   Вес к оплате, кг   77 non-null     object\n",
      " 7   Склад              78 non-null     object\n",
      "dtypes: int64(1), object(7)\n",
      "memory usage: 5.0+ KB\n"
     ]
    }
   ],
   "source": [
    "df_nsk.info()"
   ]
  },
  {
   "cell_type": "code",
   "execution_count": 23,
   "id": "dbd830ef",
   "metadata": {},
   "outputs": [],
   "source": [
    "df_nsk.rename(columns = {'№ накладной':'Накладная', 'ШК места':'Количество мест','Вес к оплате, кг':'Общий вес','Плательщик':'Клиент'}, inplace = True )"
   ]
  },
  {
   "cell_type": "code",
   "execution_count": 24,
   "id": "1817f2be",
   "metadata": {},
   "outputs": [],
   "source": [
    "df_nsk=df_nsk[['Склад','Накладная','Описание вложения','Причина задержки','Подразделение','Клиент','Общий вес']]"
   ]
  },
  {
   "cell_type": "markdown",
   "id": "abee9ecc",
   "metadata": {},
   "source": [
    "**Изучаем данные из Екатеринбурга**"
   ]
  },
  {
   "cell_type": "code",
   "execution_count": 25,
   "id": "6a01edf4",
   "metadata": {},
   "outputs": [
    {
     "name": "stdout",
     "output_type": "stream",
     "text": [
      "<class 'pandas.core.frame.DataFrame'>\n",
      "RangeIndex: 74 entries, 0 to 73\n",
      "Data columns (total 10 columns):\n",
      " #   Column            Non-Null Count  Dtype         \n",
      "---  ------            --------------  -----         \n",
      " 0   Дата              54 non-null     datetime64[ns]\n",
      " 1   Накладная         54 non-null     float64       \n",
      " 2   Вложение          54 non-null     object        \n",
      " 3   Классификация     55 non-null     object        \n",
      " 4   Принявший Офис    54 non-null     object        \n",
      " 5   Название Клиента  54 non-null     object        \n",
      " 6   Общий вес         54 non-null     object        \n",
      " 7   Количество мест   54 non-null     float64       \n",
      " 8   Ссылка на фото    54 non-null     object        \n",
      " 9   Склад             74 non-null     object        \n",
      "dtypes: datetime64[ns](1), float64(2), object(7)\n",
      "memory usage: 5.9+ KB\n"
     ]
    }
   ],
   "source": [
    "df_ekb.info()"
   ]
  },
  {
   "cell_type": "code",
   "execution_count": 26,
   "id": "9fe25ee9",
   "metadata": {},
   "outputs": [],
   "source": [
    "df_ekb.drop(['Дата','Ссылка на фото '], axis=1, inplace=True)"
   ]
  },
  {
   "cell_type": "code",
   "execution_count": 27,
   "id": "b3b88da0",
   "metadata": {},
   "outputs": [],
   "source": [
    "df_ekb.rename(columns = {'Вложение':'Описание вложения', 'Принявший Офис':'Подразделение','Классификация':'Причина задержки'\n",
    "                        ,'Название Клиента':'Клиент'}, inplace = True )"
   ]
  },
  {
   "cell_type": "code",
   "execution_count": 28,
   "id": "3f4ae210",
   "metadata": {},
   "outputs": [],
   "source": [
    "df_ekb=df_ekb[['Склад','Накладная','Описание вложения','Причина задержки','Подразделение','Клиент','Общий вес']]"
   ]
  },
  {
   "cell_type": "markdown",
   "id": "9342c5a0",
   "metadata": {},
   "source": [
    "## Соединяем таблицы из четырех городов в одну"
   ]
  },
  {
   "cell_type": "code",
   "execution_count": 29,
   "id": "0ceab5d2",
   "metadata": {},
   "outputs": [],
   "source": [
    "df_all = pd.concat([df_msk, df_spb, df_nsk, df_ekb]) "
   ]
  },
  {
   "cell_type": "markdown",
   "id": "7ded6f0a",
   "metadata": {},
   "source": [
    "**Изучаем пропущенные значения**"
   ]
  },
  {
   "cell_type": "code",
   "execution_count": 30,
   "id": "0cf05a21",
   "metadata": {},
   "outputs": [
    {
     "data": {
      "text/plain": [
       "Склад                    0\n",
       "Накладная            24198\n",
       "Описание вложения    12855\n",
       "Причина задержки     12864\n",
       "Подразделение        23861\n",
       "Клиент               24199\n",
       "Общий вес            24199\n",
       "dtype: int64"
      ]
     },
     "execution_count": 30,
     "metadata": {},
     "output_type": "execute_result"
    }
   ],
   "source": [
    "df_all.isna().sum()"
   ]
  },
  {
   "cell_type": "markdown",
   "id": "aa6755da",
   "metadata": {},
   "source": [
    "**Обрабатываем пропущенные значения**"
   ]
  },
  {
   "cell_type": "code",
   "execution_count": 31,
   "id": "ac53309a",
   "metadata": {},
   "outputs": [],
   "source": [
    "df_all = df_all.dropna(subset=['Накладная' ,'Клиент'])\n",
    "df_all = df_all.dropna(subset=['Клиент'])\n",
    "df_all = df_all.dropna(subset=['Подразделение'])\n",
    "df_all['Причина задержки'].fillna('нет инфо', inplace=True)\n",
    "df_all['Общий вес'].fillna('нет инфо', inplace=True)"
   ]
  },
  {
   "cell_type": "markdown",
   "id": "5bda8e64",
   "metadata": {},
   "source": [
    "**Удаляем дубликаты**"
   ]
  },
  {
   "cell_type": "code",
   "execution_count": 32,
   "id": "c9a11739",
   "metadata": {},
   "outputs": [],
   "source": [
    "df_all.drop_duplicates(subset=['Накладная',], inplace=True)"
   ]
  },
  {
   "cell_type": "markdown",
   "id": "a428383f",
   "metadata": {},
   "source": [
    "df_all.info()"
   ]
  },
  {
   "cell_type": "markdown",
   "id": "4e2c7f79",
   "metadata": {},
   "source": [
    "### Присоединяем данные о наличии договора и является подразделение Филиалом или ПВЗ"
   ]
  },
  {
   "cell_type": "code",
   "execution_count": 33,
   "id": "9855a22c",
   "metadata": {},
   "outputs": [],
   "source": [
    "filial=pd.read_excel('C:/Users/Natalya/Desktop/Отчеты по ОГ/Филиалы.xlsx')"
   ]
  },
  {
   "cell_type": "code",
   "execution_count": 34,
   "id": "96eecefd",
   "metadata": {},
   "outputs": [],
   "source": [
    "contract=pd.read_excel('C:/Users/Natalya/Desktop/Отчеты по ОГ/Договоры.xlsx')"
   ]
  },
  {
   "cell_type": "code",
   "execution_count": 35,
   "id": "c0026853",
   "metadata": {},
   "outputs": [],
   "source": [
    "df_all=df_all.merge(contract, on='Накладная', how='left')"
   ]
  },
  {
   "cell_type": "code",
   "execution_count": 36,
   "id": "9eb770e4",
   "metadata": {},
   "outputs": [],
   "source": [
    "df_all=df_all.merge(filial, on='Подразделение', how='left')"
   ]
  },
  {
   "cell_type": "code",
   "execution_count": 37,
   "id": "b2ba8fe0",
   "metadata": {},
   "outputs": [],
   "source": [
    "df_all['Филиал'].fillna('ПВЗ', inplace=True)"
   ]
  },
  {
   "cell_type": "markdown",
   "id": "695c5125",
   "metadata": {},
   "source": [
    "**Меняем тип данный в столбце Накладная**"
   ]
  },
  {
   "cell_type": "code",
   "execution_count": 38,
   "id": "bc41bb67",
   "metadata": {},
   "outputs": [],
   "source": [
    "df_all['Накладная'] = df_all['Накладная'].astype(str)"
   ]
  },
  {
   "cell_type": "markdown",
   "id": "2dc2e3cd",
   "metadata": {},
   "source": [
    "## Во избежание разглашения конфиденциальной информации, меняем из начальных данных Номер накладной, Клиент, Подразделение."
   ]
  },
  {
   "cell_type": "code",
   "execution_count": 39,
   "id": "2fc1fc36",
   "metadata": {},
   "outputs": [],
   "source": [
    "df_all['new_Накладная']=pd.NA"
   ]
  },
  {
   "cell_type": "code",
   "execution_count": 40,
   "id": "e8dccf5a",
   "metadata": {},
   "outputs": [],
   "source": [
    "df_all.reset_index(drop= True , inplace= True )"
   ]
  },
  {
   "cell_type": "code",
   "execution_count": 41,
   "id": "fabaeddf",
   "metadata": {},
   "outputs": [],
   "source": [
    "for i in range(len(df_all)):\n",
    "    df_all['new_Накладная'][i]=df_all['Накладная'][i][2:8]    "
   ]
  },
  {
   "cell_type": "code",
   "execution_count": 42,
   "id": "3a58454d",
   "metadata": {},
   "outputs": [],
   "source": [
    "new_Подразделение=df_all['Подразделение'].value_counts().sort_index(ascending=True)\n",
    "new_Подразделение=new_Подразделение.reset_index()\n",
    "new_Подразделение['new_Подразделение']=pd.NA\n",
    "for i in range(len(new_Подразделение)):\n",
    "    new_Подразделение['new_Подразделение'][i]=f'Подразделение {i+1}'\n",
    "new_Подразделение=new_Подразделение[['Подразделение','new_Подразделение']]"
   ]
  },
  {
   "cell_type": "code",
   "execution_count": 43,
   "id": "a72b39a5",
   "metadata": {
    "scrolled": true
   },
   "outputs": [],
   "source": [
    "new_Клиент=df_all['Клиент'].value_counts().sort_index(ascending=True)\n",
    "new_Клиент=new_Клиент.reset_index()\n",
    "new_Клиент['new_Клиент']=pd.NA\n",
    "for i in range(len(new_Клиент)):\n",
    "    new_Клиент['new_Клиент'][i]=f'Клиент {i+1}'\n",
    "new_Клиент=new_Клиент[['Клиент','new_Клиент']]"
   ]
  },
  {
   "cell_type": "code",
   "execution_count": 44,
   "id": "d4bc961e",
   "metadata": {},
   "outputs": [
    {
     "data": {
      "text/html": [
       "<div>\n",
       "<style scoped>\n",
       "    .dataframe tbody tr th:only-of-type {\n",
       "        vertical-align: middle;\n",
       "    }\n",
       "\n",
       "    .dataframe tbody tr th {\n",
       "        vertical-align: top;\n",
       "    }\n",
       "\n",
       "    .dataframe thead th {\n",
       "        text-align: right;\n",
       "    }\n",
       "</style>\n",
       "<table border=\"1\" class=\"dataframe\">\n",
       "  <thead>\n",
       "    <tr style=\"text-align: right;\">\n",
       "      <th></th>\n",
       "      <th>Склад</th>\n",
       "      <th>Накладная</th>\n",
       "      <th>Описание вложения</th>\n",
       "      <th>Причина задержки</th>\n",
       "      <th>Подразделение</th>\n",
       "      <th>Клиент</th>\n",
       "      <th>Общий вес</th>\n",
       "      <th>Номер договора</th>\n",
       "      <th>Филиал</th>\n",
       "      <th>new_Накладная</th>\n",
       "    </tr>\n",
       "  </thead>\n",
       "  <tbody>\n",
       "    <tr>\n",
       "      <th>0</th>\n",
       "      <td>Мск</td>\n",
       "      <td>10022934301.0</td>\n",
       "      <td>лак для ногтей</td>\n",
       "      <td>9 класс опасности.</td>\n",
       "      <td>Москва (ПВЗ на Магистральной)</td>\n",
       "      <td>\"ПОЧТАЛЬОН СЕРВИС\"</td>\n",
       "      <td>0.88</td>\n",
       "      <td>Есть договор</td>\n",
       "      <td>Филиал</td>\n",
       "      <td>022934</td>\n",
       "    </tr>\n",
       "    <tr>\n",
       "      <th>1</th>\n",
       "      <td>Мск</td>\n",
       "      <td>10022987193.0</td>\n",
       "      <td>химическое вещество</td>\n",
       "      <td>Необходим паспорт безопасности MSDS.</td>\n",
       "      <td>Москва (Москва-Север)</td>\n",
       "      <td>Косицына Наталья Владимировна</td>\n",
       "      <td>2.6</td>\n",
       "      <td>Есть договор</td>\n",
       "      <td>Филиал</td>\n",
       "      <td>022987</td>\n",
       "    </tr>\n",
       "    <tr>\n",
       "      <th>2</th>\n",
       "      <td>Мск</td>\n",
       "      <td>10023106490.0</td>\n",
       "      <td>смазка</td>\n",
       "      <td>Необходим паспорт безопасности MSDS.</td>\n",
       "      <td>Санкт-Петербург (Выборгская)</td>\n",
       "      <td>СТОМСТАДИ</td>\n",
       "      <td>1.22</td>\n",
       "      <td>Есть договор</td>\n",
       "      <td>ПВЗ</td>\n",
       "      <td>023106</td>\n",
       "    </tr>\n",
       "    <tr>\n",
       "      <th>3</th>\n",
       "      <td>Мск</td>\n",
       "      <td>10022281100.0</td>\n",
       "      <td>духи</td>\n",
       "      <td>9 класс опасности.</td>\n",
       "      <td>Сочи (На Виноградной, 26Б)</td>\n",
       "      <td>Белова Виктория Константиновна</td>\n",
       "      <td>1.15</td>\n",
       "      <td>Есть договор</td>\n",
       "      <td>ПВЗ</td>\n",
       "      <td>022281</td>\n",
       "    </tr>\n",
       "    <tr>\n",
       "      <th>4</th>\n",
       "      <td>Мск</td>\n",
       "      <td>10023337736.0</td>\n",
       "      <td>духи</td>\n",
       "      <td>9 класс опасности.</td>\n",
       "      <td>Москва (На Складочной 1)</td>\n",
       "      <td>СТРОЙ-ИНВЕСТ</td>\n",
       "      <td>0.5</td>\n",
       "      <td>Есть договор</td>\n",
       "      <td>ПВЗ</td>\n",
       "      <td>023337</td>\n",
       "    </tr>\n",
       "  </tbody>\n",
       "</table>\n",
       "</div>"
      ],
      "text/plain": [
       "  Склад      Накладная    Описание вложения  \\\n",
       "0   Мск  10022934301.0       лак для ногтей   \n",
       "1   Мск  10022987193.0  химическое вещество   \n",
       "2   Мск  10023106490.0               смазка   \n",
       "3   Мск  10022281100.0                 духи   \n",
       "4   Мск  10023337736.0                 духи   \n",
       "\n",
       "                       Причина задержки                  Подразделение  \\\n",
       "0                    9 класс опасности.  Москва (ПВЗ на Магистральной)   \n",
       "1  Необходим паспорт безопасности MSDS.          Москва (Москва-Север)   \n",
       "2  Необходим паспорт безопасности MSDS.   Санкт-Петербург (Выборгская)   \n",
       "3                    9 класс опасности.     Сочи (На Виноградной, 26Б)   \n",
       "4                    9 класс опасности.       Москва (На Складочной 1)   \n",
       "\n",
       "                           Клиент Общий вес Номер договора  Филиал  \\\n",
       "0              \"ПОЧТАЛЬОН СЕРВИС\"      0.88   Есть договор  Филиал   \n",
       "1   Косицына Наталья Владимировна       2.6   Есть договор  Филиал   \n",
       "2                       СТОМСТАДИ      1.22   Есть договор     ПВЗ   \n",
       "3  Белова Виктория Константиновна      1.15   Есть договор     ПВЗ   \n",
       "4                    СТРОЙ-ИНВЕСТ       0.5   Есть договор     ПВЗ   \n",
       "\n",
       "  new_Накладная  \n",
       "0        022934  \n",
       "1        022987  \n",
       "2        023106  \n",
       "3        022281  \n",
       "4        023337  "
      ]
     },
     "execution_count": 44,
     "metadata": {},
     "output_type": "execute_result"
    }
   ],
   "source": [
    "df_all.head()"
   ]
  },
  {
   "cell_type": "code",
   "execution_count": 45,
   "id": "0d93baca",
   "metadata": {},
   "outputs": [],
   "source": [
    "df_all=df_all.merge(new_Клиент, on='Клиент', how='left')"
   ]
  },
  {
   "cell_type": "code",
   "execution_count": 46,
   "id": "ff9b7298",
   "metadata": {},
   "outputs": [],
   "source": [
    "df_all=df_all.merge(new_Подразделение, on='Подразделение', how='left')"
   ]
  },
  {
   "cell_type": "code",
   "execution_count": 47,
   "id": "2dd073ed",
   "metadata": {},
   "outputs": [],
   "source": [
    "df_all=df_all[['Склад','new_Накладная','Описание вложения','Причина задержки','new_Подразделение','new_Клиент','Общий вес','Номер договора','Филиал']]"
   ]
  },
  {
   "cell_type": "code",
   "execution_count": 48,
   "id": "84387494",
   "metadata": {},
   "outputs": [],
   "source": [
    "df_all.rename(columns={'new_Накладная':'Накладная','new_Подразделение':'Подразделение','new_Клиент':'Клиент'},inplace=True)"
   ]
  },
  {
   "cell_type": "code",
   "execution_count": 49,
   "id": "b7efc6cd",
   "metadata": {},
   "outputs": [
    {
     "data": {
      "text/html": [
       "<div>\n",
       "<style scoped>\n",
       "    .dataframe tbody tr th:only-of-type {\n",
       "        vertical-align: middle;\n",
       "    }\n",
       "\n",
       "    .dataframe tbody tr th {\n",
       "        vertical-align: top;\n",
       "    }\n",
       "\n",
       "    .dataframe thead th {\n",
       "        text-align: right;\n",
       "    }\n",
       "</style>\n",
       "<table border=\"1\" class=\"dataframe\">\n",
       "  <thead>\n",
       "    <tr style=\"text-align: right;\">\n",
       "      <th></th>\n",
       "      <th>Склад</th>\n",
       "      <th>Накладная</th>\n",
       "      <th>Описание вложения</th>\n",
       "      <th>Причина задержки</th>\n",
       "      <th>Подразделение</th>\n",
       "      <th>Клиент</th>\n",
       "      <th>Общий вес</th>\n",
       "      <th>Номер договора</th>\n",
       "      <th>Филиал</th>\n",
       "    </tr>\n",
       "  </thead>\n",
       "  <tbody>\n",
       "    <tr>\n",
       "      <th>0</th>\n",
       "      <td>Мск</td>\n",
       "      <td>022934</td>\n",
       "      <td>лак для ногтей</td>\n",
       "      <td>9 класс опасности.</td>\n",
       "      <td>Подразделение 986</td>\n",
       "      <td>Клиент 497</td>\n",
       "      <td>0.88</td>\n",
       "      <td>Есть договор</td>\n",
       "      <td>Филиал</td>\n",
       "    </tr>\n",
       "    <tr>\n",
       "      <th>1</th>\n",
       "      <td>Мск</td>\n",
       "      <td>022987</td>\n",
       "      <td>химическое вещество</td>\n",
       "      <td>Необходим паспорт безопасности MSDS.</td>\n",
       "      <td>Подразделение 773</td>\n",
       "      <td>Клиент 2242</td>\n",
       "      <td>2.6</td>\n",
       "      <td>Есть договор</td>\n",
       "      <td>Филиал</td>\n",
       "    </tr>\n",
       "    <tr>\n",
       "      <th>2</th>\n",
       "      <td>Мск</td>\n",
       "      <td>023106</td>\n",
       "      <td>смазка</td>\n",
       "      <td>Необходим паспорт безопасности MSDS.</td>\n",
       "      <td>Подразделение 1379</td>\n",
       "      <td>Клиент 3183</td>\n",
       "      <td>1.22</td>\n",
       "      <td>Есть договор</td>\n",
       "      <td>ПВЗ</td>\n",
       "    </tr>\n",
       "    <tr>\n",
       "      <th>3</th>\n",
       "      <td>Мск</td>\n",
       "      <td>022281</td>\n",
       "      <td>духи</td>\n",
       "      <td>9 класс опасности.</td>\n",
       "      <td>Подразделение 1648</td>\n",
       "      <td>Клиент 1199</td>\n",
       "      <td>1.15</td>\n",
       "      <td>Есть договор</td>\n",
       "      <td>ПВЗ</td>\n",
       "    </tr>\n",
       "    <tr>\n",
       "      <th>4</th>\n",
       "      <td>Мск</td>\n",
       "      <td>023337</td>\n",
       "      <td>духи</td>\n",
       "      <td>9 класс опасности.</td>\n",
       "      <td>Подразделение 940</td>\n",
       "      <td>Клиент 3186</td>\n",
       "      <td>0.5</td>\n",
       "      <td>Есть договор</td>\n",
       "      <td>ПВЗ</td>\n",
       "    </tr>\n",
       "    <tr>\n",
       "      <th>5</th>\n",
       "      <td>Мск</td>\n",
       "      <td>022073</td>\n",
       "      <td>духи</td>\n",
       "      <td>9 класс опасности.</td>\n",
       "      <td>Подразделение 1447</td>\n",
       "      <td>Клиент 2959</td>\n",
       "      <td>0.87</td>\n",
       "      <td>Нет договора</td>\n",
       "      <td>ПВЗ</td>\n",
       "    </tr>\n",
       "    <tr>\n",
       "      <th>6</th>\n",
       "      <td>Мск</td>\n",
       "      <td>022437</td>\n",
       "      <td>духи</td>\n",
       "      <td>9 класс опасности.</td>\n",
       "      <td>Подразделение 37</td>\n",
       "      <td>Клиент 2488</td>\n",
       "      <td>0.5</td>\n",
       "      <td>Есть договор</td>\n",
       "      <td>ПВЗ</td>\n",
       "    </tr>\n",
       "    <tr>\n",
       "      <th>7</th>\n",
       "      <td>Мск</td>\n",
       "      <td>023376</td>\n",
       "      <td>Косметика 9 класс</td>\n",
       "      <td>9 класс опасности.</td>\n",
       "      <td>Подразделение 774</td>\n",
       "      <td>Клиент 3179</td>\n",
       "      <td>3.02</td>\n",
       "      <td>Есть договор</td>\n",
       "      <td>Филиал</td>\n",
       "    </tr>\n",
       "    <tr>\n",
       "      <th>8</th>\n",
       "      <td>Мск</td>\n",
       "      <td>021831</td>\n",
       "      <td>неизвестное вещество</td>\n",
       "      <td>Отправка авиа запрещена.</td>\n",
       "      <td>Подразделение 1799</td>\n",
       "      <td>Клиент 3004</td>\n",
       "      <td>0.96</td>\n",
       "      <td>Есть договор</td>\n",
       "      <td>ПВЗ</td>\n",
       "    </tr>\n",
       "    <tr>\n",
       "      <th>9</th>\n",
       "      <td>Мск</td>\n",
       "      <td>022125</td>\n",
       "      <td>химическое вещество</td>\n",
       "      <td>Необходим паспорт безопасности MSDS.</td>\n",
       "      <td>Подразделение 1201</td>\n",
       "      <td>Клиент 817</td>\n",
       "      <td>3.04</td>\n",
       "      <td>Есть договор</td>\n",
       "      <td>ПВЗ</td>\n",
       "    </tr>\n",
       "  </tbody>\n",
       "</table>\n",
       "</div>"
      ],
      "text/plain": [
       "  Склад Накладная     Описание вложения                      Причина задержки  \\\n",
       "0   Мск    022934        лак для ногтей                    9 класс опасности.   \n",
       "1   Мск    022987   химическое вещество  Необходим паспорт безопасности MSDS.   \n",
       "2   Мск    023106                смазка  Необходим паспорт безопасности MSDS.   \n",
       "3   Мск    022281                  духи                    9 класс опасности.   \n",
       "4   Мск    023337                  духи                    9 класс опасности.   \n",
       "5   Мск    022073                  духи                    9 класс опасности.   \n",
       "6   Мск    022437                  духи                    9 класс опасности.   \n",
       "7   Мск    023376     Косметика 9 класс                    9 класс опасности.   \n",
       "8   Мск    021831  неизвестное вещество              Отправка авиа запрещена.   \n",
       "9   Мск    022125   химическое вещество  Необходим паспорт безопасности MSDS.   \n",
       "\n",
       "        Подразделение       Клиент Общий вес Номер договора  Филиал  \n",
       "0   Подразделение 986   Клиент 497      0.88   Есть договор  Филиал  \n",
       "1   Подразделение 773  Клиент 2242       2.6   Есть договор  Филиал  \n",
       "2  Подразделение 1379  Клиент 3183      1.22   Есть договор     ПВЗ  \n",
       "3  Подразделение 1648  Клиент 1199      1.15   Есть договор     ПВЗ  \n",
       "4   Подразделение 940  Клиент 3186       0.5   Есть договор     ПВЗ  \n",
       "5  Подразделение 1447  Клиент 2959      0.87   Нет договора     ПВЗ  \n",
       "6    Подразделение 37  Клиент 2488       0.5   Есть договор     ПВЗ  \n",
       "7   Подразделение 774  Клиент 3179      3.02   Есть договор  Филиал  \n",
       "8  Подразделение 1799  Клиент 3004      0.96   Есть договор     ПВЗ  \n",
       "9  Подразделение 1201   Клиент 817      3.04   Есть договор     ПВЗ  "
      ]
     },
     "execution_count": 49,
     "metadata": {},
     "output_type": "execute_result"
    }
   ],
   "source": [
    "df_all.head(10)"
   ]
  },
  {
   "cell_type": "markdown",
   "id": "4bb91759",
   "metadata": {},
   "source": [
    "## Предобрабатываем описание вложения"
   ]
  },
  {
   "cell_type": "markdown",
   "id": "c3b65702",
   "metadata": {},
   "source": [
    "**Приведем значения к нижнему регистру и удалим пробелы в начале слова**"
   ]
  },
  {
   "cell_type": "code",
   "execution_count": 50,
   "id": "27a36660",
   "metadata": {},
   "outputs": [],
   "source": [
    "df_all['Описание вложения']=df_all['Описание вложения'].str.lower()\n",
    "df_all['Причина задержки']=df_all['Причина задержки'].str.lower()\n",
    "df_all['Описание вложения'] = df_all['Описание вложения'].str.strip()"
   ]
  },
  {
   "cell_type": "markdown",
   "id": "c0f0242d",
   "metadata": {},
   "source": [
    "**Укрупняем группы**"
   ]
  },
  {
   "cell_type": "code",
   "execution_count": 51,
   "id": "51b14c36",
   "metadata": {},
   "outputs": [],
   "source": [
    "slovar_og= {\n",
    "    'ароматизатор':['ароматизатор','эфирные масла','эфирное масло','диффузор','ароматизаторъ'],\n",
    "    'неизвестное вещество':['неизвестное вещество','неизвестное вщество','неизвестная жидкость'],\n",
    "    'косметика 9 класс':['лак для ногтей','косметика','лаки в большом количестве'],\n",
    "    'духи':['духи','парфюм','парфюмерия'],\n",
    "     \"свеча\":['свеча','свечи'],\n",
    "     'гсм':['деталь со следами гсм','деталь в масле',' двс','двс','запчасть в масле','запчасть с гсм','бензобак',\n",
    "     'деталь ГСМ',' запчасть с запахом гсм', \" б/у запчасть\",'запчасть б/у','бу деталь','деталь в гсм','3апчасти','б/у запчасть'],\n",
    "     \"химическое вещество\":['химическое вещество','нужен пб','огнеопасное вещество','хим вещ-во','хим вещ-во ','удобрения',\n",
    "                           'огнеопасно','герметик','коррозийное вещество','химичекое вещество','лодка с клеем','химвещество'\n",
    "                           'емкости','емкость','хим.вещество','хим вещество'],\n",
    "     \"акб\":['акб','ибп','гидроакб','гидроаккумулятор','свинцово-кислотная акб',' акб'],\n",
    "     \"автохимия\":['автохимия',\"масло\",\"моторное масло\",'машинное масло'],\n",
    "     \"амортизатор\":['амортизаторы','амортизатор'],\n",
    "     'баллон':['баллон','баллончик','баллончики',\"огнетушитель\",'баллоны под давлением']\n",
    "\n",
    "    }"
   ]
  },
  {
   "cell_type": "code",
   "execution_count": 52,
   "id": "d50aa3a7",
   "metadata": {},
   "outputs": [],
   "source": [
    "for i in range(len(df_all)):\n",
    "    for key in slovar_og:\n",
    "        if df_all['Описание вложения'][i] in slovar_og[key]:\n",
    "            df_all['Описание вложения'][i]=key"
   ]
  },
  {
   "cell_type": "code",
   "execution_count": 53,
   "id": "bbbc0987",
   "metadata": {},
   "outputs": [],
   "source": [
    "dictionary_og=pd.read_excel('C:/Users/Natalya/Desktop/Отчеты по ОГ/Словарь ОГ.xlsx')"
   ]
  },
  {
   "cell_type": "code",
   "execution_count": 54,
   "id": "dd8d9f92",
   "metadata": {},
   "outputs": [],
   "source": [
    "df_all=df_all.merge(dictionary_og, on='Описание вложения', how='left')"
   ]
  },
  {
   "cell_type": "code",
   "execution_count": 55,
   "id": "e8670f72",
   "metadata": {},
   "outputs": [],
   "source": [
    "df_all=df_all[['Склад','Накладная','Описание вложения','причина задержки','Подразделение','Клиент','Общий вес','Номер договора','Филиал']]"
   ]
  },
  {
   "cell_type": "code",
   "execution_count": 56,
   "id": "1094945b",
   "metadata": {},
   "outputs": [],
   "source": [
    "df_all.rename(columns = {'причина задержки':'Причина задержки'}, inplace = True )"
   ]
  },
  {
   "cell_type": "markdown",
   "id": "6daae9f9",
   "metadata": {},
   "source": [
    "## Получаем итоговую таблицу для анализа данных."
   ]
  },
  {
   "cell_type": "code",
   "execution_count": 57,
   "id": "fe97fba5",
   "metadata": {},
   "outputs": [
    {
     "data": {
      "text/html": [
       "<div>\n",
       "<style scoped>\n",
       "    .dataframe tbody tr th:only-of-type {\n",
       "        vertical-align: middle;\n",
       "    }\n",
       "\n",
       "    .dataframe tbody tr th {\n",
       "        vertical-align: top;\n",
       "    }\n",
       "\n",
       "    .dataframe thead th {\n",
       "        text-align: right;\n",
       "    }\n",
       "</style>\n",
       "<table border=\"1\" class=\"dataframe\">\n",
       "  <thead>\n",
       "    <tr style=\"text-align: right;\">\n",
       "      <th></th>\n",
       "      <th>Склад</th>\n",
       "      <th>Накладная</th>\n",
       "      <th>Описание вложения</th>\n",
       "      <th>Причина задержки</th>\n",
       "      <th>Подразделение</th>\n",
       "      <th>Клиент</th>\n",
       "      <th>Общий вес</th>\n",
       "      <th>Номер договора</th>\n",
       "      <th>Филиал</th>\n",
       "    </tr>\n",
       "  </thead>\n",
       "  <tbody>\n",
       "    <tr>\n",
       "      <th>0</th>\n",
       "      <td>Мск</td>\n",
       "      <td>022934</td>\n",
       "      <td>косметика 9 класс</td>\n",
       "      <td>груз отстранен из-за отсутствия надбавки за оп...</td>\n",
       "      <td>Подразделение 986</td>\n",
       "      <td>Клиент 497</td>\n",
       "      <td>0.88</td>\n",
       "      <td>Есть договор</td>\n",
       "      <td>Филиал</td>\n",
       "    </tr>\n",
       "    <tr>\n",
       "      <th>1</th>\n",
       "      <td>Мск</td>\n",
       "      <td>022987</td>\n",
       "      <td>химическое вещество</td>\n",
       "      <td>груз отстранен из-за отсутствия документов</td>\n",
       "      <td>Подразделение 773</td>\n",
       "      <td>Клиент 2242</td>\n",
       "      <td>2.6</td>\n",
       "      <td>Есть договор</td>\n",
       "      <td>Филиал</td>\n",
       "    </tr>\n",
       "    <tr>\n",
       "      <th>2</th>\n",
       "      <td>Мск</td>\n",
       "      <td>023106</td>\n",
       "      <td>смазка</td>\n",
       "      <td>груз отстранен из-за отсутствия документов</td>\n",
       "      <td>Подразделение 1379</td>\n",
       "      <td>Клиент 3183</td>\n",
       "      <td>1.22</td>\n",
       "      <td>Есть договор</td>\n",
       "      <td>ПВЗ</td>\n",
       "    </tr>\n",
       "    <tr>\n",
       "      <th>3</th>\n",
       "      <td>Мск</td>\n",
       "      <td>022281</td>\n",
       "      <td>духи</td>\n",
       "      <td>груз отстранен из-за отсутствия надбавки за оп...</td>\n",
       "      <td>Подразделение 1648</td>\n",
       "      <td>Клиент 1199</td>\n",
       "      <td>1.15</td>\n",
       "      <td>Есть договор</td>\n",
       "      <td>ПВЗ</td>\n",
       "    </tr>\n",
       "    <tr>\n",
       "      <th>4</th>\n",
       "      <td>Мск</td>\n",
       "      <td>023337</td>\n",
       "      <td>духи</td>\n",
       "      <td>груз отстранен из-за отсутствия надбавки за оп...</td>\n",
       "      <td>Подразделение 940</td>\n",
       "      <td>Клиент 3186</td>\n",
       "      <td>0.5</td>\n",
       "      <td>Есть договор</td>\n",
       "      <td>ПВЗ</td>\n",
       "    </tr>\n",
       "    <tr>\n",
       "      <th>...</th>\n",
       "      <td>...</td>\n",
       "      <td>...</td>\n",
       "      <td>...</td>\n",
       "      <td>...</td>\n",
       "      <td>...</td>\n",
       "      <td>...</td>\n",
       "      <td>...</td>\n",
       "      <td>...</td>\n",
       "      <td>...</td>\n",
       "    </tr>\n",
       "    <tr>\n",
       "      <th>6093</th>\n",
       "      <td>Екб</td>\n",
       "      <td>025460</td>\n",
       "      <td>химическое вещество</td>\n",
       "      <td>груз отстранен из-за отсутствия документов</td>\n",
       "      <td>Подразделение 1268</td>\n",
       "      <td>Клиент 172</td>\n",
       "      <td>3,6 и 2,6</td>\n",
       "      <td>Есть договор</td>\n",
       "      <td>ПВЗ</td>\n",
       "    </tr>\n",
       "    <tr>\n",
       "      <th>6094</th>\n",
       "      <td>Екб</td>\n",
       "      <td>024315</td>\n",
       "      <td>автохимия</td>\n",
       "      <td>груз отстранен из-за отсутствия документов</td>\n",
       "      <td>Подразделение 125</td>\n",
       "      <td>Клиент 2153</td>\n",
       "      <td>20</td>\n",
       "      <td>Есть договор</td>\n",
       "      <td>ПВЗ</td>\n",
       "    </tr>\n",
       "    <tr>\n",
       "      <th>6095</th>\n",
       "      <td>Екб</td>\n",
       "      <td>024713</td>\n",
       "      <td>под давлением</td>\n",
       "      <td>груз отстранен из-за ошибки в выборе транспорт...</td>\n",
       "      <td>Подразделение 16</td>\n",
       "      <td>Клиент 444</td>\n",
       "      <td>8</td>\n",
       "      <td>Есть договор</td>\n",
       "      <td>ПВЗ</td>\n",
       "    </tr>\n",
       "    <tr>\n",
       "      <th>6096</th>\n",
       "      <td>Екб</td>\n",
       "      <td>025565</td>\n",
       "      <td>неизвестное вложение</td>\n",
       "      <td>груз отстранен из-за ошибки в выборе транспорт...</td>\n",
       "      <td>Подразделение 343</td>\n",
       "      <td>Клиент 3</td>\n",
       "      <td>2.34</td>\n",
       "      <td>Есть договор</td>\n",
       "      <td>ПВЗ</td>\n",
       "    </tr>\n",
       "    <tr>\n",
       "      <th>6097</th>\n",
       "      <td>Екб</td>\n",
       "      <td>025659</td>\n",
       "      <td>химическое вещество</td>\n",
       "      <td>груз отстранен из-за отсутствия документов</td>\n",
       "      <td>Подразделение 362</td>\n",
       "      <td>Клиент 2018</td>\n",
       "      <td>1.5</td>\n",
       "      <td>Нет договора</td>\n",
       "      <td>ПВЗ</td>\n",
       "    </tr>\n",
       "  </tbody>\n",
       "</table>\n",
       "<p>6098 rows × 9 columns</p>\n",
       "</div>"
      ],
      "text/plain": [
       "     Склад Накладная     Описание вложения  \\\n",
       "0      Мск    022934     косметика 9 класс   \n",
       "1      Мск    022987   химическое вещество   \n",
       "2      Мск    023106                смазка   \n",
       "3      Мск    022281                  духи   \n",
       "4      Мск    023337                  духи   \n",
       "...    ...       ...                   ...   \n",
       "6093   Екб    025460   химическое вещество   \n",
       "6094   Екб    024315             автохимия   \n",
       "6095   Екб    024713         под давлением   \n",
       "6096   Екб    025565  неизвестное вложение   \n",
       "6097   Екб    025659   химическое вещество   \n",
       "\n",
       "                                       Причина задержки       Подразделение  \\\n",
       "0     груз отстранен из-за отсутствия надбавки за оп...   Подразделение 986   \n",
       "1            груз отстранен из-за отсутствия документов   Подразделение 773   \n",
       "2            груз отстранен из-за отсутствия документов  Подразделение 1379   \n",
       "3     груз отстранен из-за отсутствия надбавки за оп...  Подразделение 1648   \n",
       "4     груз отстранен из-за отсутствия надбавки за оп...   Подразделение 940   \n",
       "...                                                 ...                 ...   \n",
       "6093         груз отстранен из-за отсутствия документов  Подразделение 1268   \n",
       "6094         груз отстранен из-за отсутствия документов   Подразделение 125   \n",
       "6095  груз отстранен из-за ошибки в выборе транспорт...    Подразделение 16   \n",
       "6096  груз отстранен из-за ошибки в выборе транспорт...   Подразделение 343   \n",
       "6097         груз отстранен из-за отсутствия документов   Подразделение 362   \n",
       "\n",
       "           Клиент  Общий вес Номер договора  Филиал  \n",
       "0      Клиент 497       0.88   Есть договор  Филиал  \n",
       "1     Клиент 2242        2.6   Есть договор  Филиал  \n",
       "2     Клиент 3183       1.22   Есть договор     ПВЗ  \n",
       "3     Клиент 1199       1.15   Есть договор     ПВЗ  \n",
       "4     Клиент 3186        0.5   Есть договор     ПВЗ  \n",
       "...           ...        ...            ...     ...  \n",
       "6093   Клиент 172  3,6 и 2,6   Есть договор     ПВЗ  \n",
       "6094  Клиент 2153         20   Есть договор     ПВЗ  \n",
       "6095   Клиент 444          8   Есть договор     ПВЗ  \n",
       "6096     Клиент 3       2.34   Есть договор     ПВЗ  \n",
       "6097  Клиент 2018        1.5   Нет договора     ПВЗ  \n",
       "\n",
       "[6098 rows x 9 columns]"
      ]
     },
     "execution_count": 57,
     "metadata": {},
     "output_type": "execute_result"
    }
   ],
   "source": [
    "df_all"
   ]
  },
  {
   "cell_type": "markdown",
   "id": "a09ba288",
   "metadata": {},
   "source": [
    "# Анализ задержанных посылок с опасным грузом за август. "
   ]
  },
  {
   "cell_type": "markdown",
   "id": "47e7720a",
   "metadata": {},
   "source": [
    "**Рассмотрим распределение количества задержанных посылок в зависимости от города склада**"
   ]
  },
  {
   "cell_type": "code",
   "execution_count": 58,
   "id": "97a55755",
   "metadata": {},
   "outputs": [
    {
     "data": {
      "text/html": [
       "<div>\n",
       "<style scoped>\n",
       "    .dataframe tbody tr th:only-of-type {\n",
       "        vertical-align: middle;\n",
       "    }\n",
       "\n",
       "    .dataframe tbody tr th {\n",
       "        vertical-align: top;\n",
       "    }\n",
       "\n",
       "    .dataframe thead th {\n",
       "        text-align: right;\n",
       "    }\n",
       "</style>\n",
       "<table border=\"1\" class=\"dataframe\">\n",
       "  <thead>\n",
       "    <tr style=\"text-align: right;\">\n",
       "      <th></th>\n",
       "      <th>Склад</th>\n",
       "      <th>Накладная</th>\n",
       "    </tr>\n",
       "  </thead>\n",
       "  <tbody>\n",
       "    <tr>\n",
       "      <th>0</th>\n",
       "      <td>Екб</td>\n",
       "      <td>56</td>\n",
       "    </tr>\n",
       "    <tr>\n",
       "      <th>1</th>\n",
       "      <td>Мск</td>\n",
       "      <td>5186</td>\n",
       "    </tr>\n",
       "    <tr>\n",
       "      <th>2</th>\n",
       "      <td>Нск</td>\n",
       "      <td>73</td>\n",
       "    </tr>\n",
       "    <tr>\n",
       "      <th>3</th>\n",
       "      <td>Спб</td>\n",
       "      <td>783</td>\n",
       "    </tr>\n",
       "  </tbody>\n",
       "</table>\n",
       "</div>"
      ],
      "text/plain": [
       "  Склад  Накладная\n",
       "0   Екб         56\n",
       "1   Мск       5186\n",
       "2   Нск         73\n",
       "3   Спб        783"
      ]
     },
     "execution_count": 58,
     "metadata": {},
     "output_type": "execute_result"
    }
   ],
   "source": [
    "table=df_all.groupby(['Склад']).count()['Накладная']\n",
    "table=table.reset_index()\n",
    "table.sort_values('Накладная', ascending=False )\n",
    "table"
   ]
  },
  {
   "cell_type": "code",
   "execution_count": 59,
   "id": "5e67f1a2",
   "metadata": {},
   "outputs": [
    {
     "data": {
      "image/png": "[encoded data removed]",
      "text/plain": [
       "<Figure size 640x480 with 1 Axes>"
      ]
     },
     "metadata": {},
     "output_type": "display_data"
    }
   ],
   "source": [
    "df_all.groupby(['Склад']).count().plot(kind='pie', y='Накладная',autopct='%1.0f%%',\n",
    "       colors = ['m', 'turquoise', 'b','pink'],title='Город склада обработки')\n",
    "plt.show()"
   ]
  },
  {
   "cell_type": "markdown",
   "id": "0d94fa5d",
   "metadata": {},
   "source": [
    "- **Видим, что большая часть (85%) опасного груза принято в Москве, около 13% в Санкт-Петербурге. В Новосибирске и Екатеринбурге принято около 1% от общего числа.**"
   ]
  },
  {
   "cell_type": "markdown",
   "id": "597388d2",
   "metadata": {},
   "source": [
    "**Рассмотрим отношение подразделений, которые относятся к филиалу и к пунктам выдачи. Также рассмотрим соотношение клиентов с договором и без.**"
   ]
  },
  {
   "cell_type": "code",
   "execution_count": 60,
   "id": "f68a6964",
   "metadata": {},
   "outputs": [
    {
     "name": "stdout",
     "output_type": "stream",
     "text": [
      "Филиал\n",
      "ПВЗ       4839\n",
      "Филиал    1259\n",
      "Name: count, dtype: int64\n",
      "Номер договора\n",
      "Есть договор    4086\n",
      "Нет договора    2012\n",
      "Name: count, dtype: int64\n"
     ]
    }
   ],
   "source": [
    "table1=df_all['Филиал'].value_counts()\n",
    "print(table1)\n",
    "table2=df_all['Номер договора'].value_counts()\n",
    "print(table2)"
   ]
  },
  {
   "cell_type": "code",
   "execution_count": 61,
   "id": "3f387e5f",
   "metadata": {},
   "outputs": [
    {
     "data": {
      "image/png": "[encoded data removed]",
      "text/plain": [
       "<Figure size 640x480 with 1 Axes>"
      ]
     },
     "metadata": {},
     "output_type": "display_data"
    },
    {
     "data": {
      "image/png": "[encoded data removed]",
      "text/plain": [
       "<Figure size 640x480 with 1 Axes>"
      ]
     },
     "metadata": {},
     "output_type": "display_data"
    }
   ],
   "source": [
    "table1.plot(kind='pie',autopct='%1.1f%%',title = 'Соотношение ПВЗ и филиалов')\n",
    "plt.show()\n",
    "table2.plot(kind='pie',autopct='%1.1f%%',title = 'Соотношение посылок отправленных с договором и без')\n",
    "plt.show()"
   ]
  },
  {
   "cell_type": "markdown",
   "id": "8f53a297",
   "metadata": {},
   "source": [
    "- **Видим, что большая часть опасного груза была принята на ПВЗ**\n",
    "- **У 67% посылок были отправлены клиентами, у которые есть договор**"
   ]
  },
  {
   "cell_type": "markdown",
   "id": "d9b52342",
   "metadata": {},
   "source": [
    "**Составим сводную по рассмотренным данным**"
   ]
  },
  {
   "cell_type": "code",
   "execution_count": 62,
   "id": "b073f325",
   "metadata": {},
   "outputs": [
    {
     "data": {
      "text/html": [
       "<div>\n",
       "<style scoped>\n",
       "    .dataframe tbody tr th:only-of-type {\n",
       "        vertical-align: middle;\n",
       "    }\n",
       "\n",
       "    .dataframe tbody tr th {\n",
       "        vertical-align: top;\n",
       "    }\n",
       "\n",
       "    .dataframe thead th {\n",
       "        text-align: right;\n",
       "    }\n",
       "</style>\n",
       "<table border=\"1\" class=\"dataframe\">\n",
       "  <thead>\n",
       "    <tr style=\"text-align: right;\">\n",
       "      <th></th>\n",
       "      <th>Номер договора</th>\n",
       "      <th>Есть договор</th>\n",
       "      <th>Нет договора</th>\n",
       "    </tr>\n",
       "    <tr>\n",
       "      <th>Склад</th>\n",
       "      <th>Филиал</th>\n",
       "      <th></th>\n",
       "      <th></th>\n",
       "    </tr>\n",
       "  </thead>\n",
       "  <tbody>\n",
       "    <tr>\n",
       "      <th rowspan=\"2\" valign=\"top\">Екб</th>\n",
       "      <th>ПВЗ</th>\n",
       "      <td>32.0</td>\n",
       "      <td>18.0</td>\n",
       "    </tr>\n",
       "    <tr>\n",
       "      <th>Филиал</th>\n",
       "      <td>6.0</td>\n",
       "      <td>NaN</td>\n",
       "    </tr>\n",
       "    <tr>\n",
       "      <th rowspan=\"2\" valign=\"top\">Мск</th>\n",
       "      <th>ПВЗ</th>\n",
       "      <td>2347.0</td>\n",
       "      <td>1709.0</td>\n",
       "    </tr>\n",
       "    <tr>\n",
       "      <th>Филиал</th>\n",
       "      <td>1088.0</td>\n",
       "      <td>42.0</td>\n",
       "    </tr>\n",
       "    <tr>\n",
       "      <th rowspan=\"2\" valign=\"top\">Нск</th>\n",
       "      <th>ПВЗ</th>\n",
       "      <td>42.0</td>\n",
       "      <td>30.0</td>\n",
       "    </tr>\n",
       "    <tr>\n",
       "      <th>Филиал</th>\n",
       "      <td>NaN</td>\n",
       "      <td>1.0</td>\n",
       "    </tr>\n",
       "    <tr>\n",
       "      <th rowspan=\"2\" valign=\"top\">Спб</th>\n",
       "      <th>ПВЗ</th>\n",
       "      <td>456.0</td>\n",
       "      <td>205.0</td>\n",
       "    </tr>\n",
       "    <tr>\n",
       "      <th>Филиал</th>\n",
       "      <td>115.0</td>\n",
       "      <td>7.0</td>\n",
       "    </tr>\n",
       "  </tbody>\n",
       "</table>\n",
       "</div>"
      ],
      "text/plain": [
       "Номер договора  Есть договор  Нет договора\n",
       "Склад Филиал                              \n",
       "Екб   ПВЗ               32.0          18.0\n",
       "      Филиал             6.0           NaN\n",
       "Мск   ПВЗ             2347.0        1709.0\n",
       "      Филиал          1088.0          42.0\n",
       "Нск   ПВЗ               42.0          30.0\n",
       "      Филиал             NaN           1.0\n",
       "Спб   ПВЗ              456.0         205.0\n",
       "      Филиал           115.0           7.0"
      ]
     },
     "execution_count": 62,
     "metadata": {},
     "output_type": "execute_result"
    }
   ],
   "source": [
    "df_all.pivot_table(index=['Склад', 'Филиал'], columns='Номер договора', values='Накладная', aggfunc='count')"
   ]
  },
  {
   "cell_type": "markdown",
   "id": "a26ef086",
   "metadata": {},
   "source": [
    "## Рассмотрим самых популярных нарушителей"
   ]
  },
  {
   "cell_type": "markdown",
   "id": "91d73d1e",
   "metadata": {},
   "source": [
    "### Клиенты, которые отправили больше всего посылок с ОГ:"
   ]
  },
  {
   "cell_type": "code",
   "execution_count": 63,
   "id": "c80440e9",
   "metadata": {},
   "outputs": [],
   "source": [
    "table_client=df_all['Клиент'].value_counts()\n",
    "table_client=table_client.reset_index()\n",
    "table_client.rename(columns={'count':'Количество отправленных посылок с ОГ'}, inplace=True)"
   ]
  },
  {
   "cell_type": "code",
   "execution_count": 64,
   "id": "dd32c69d",
   "metadata": {},
   "outputs": [
    {
     "data": {
      "text/html": [
       "<div>\n",
       "<style scoped>\n",
       "    .dataframe tbody tr th:only-of-type {\n",
       "        vertical-align: middle;\n",
       "    }\n",
       "\n",
       "    .dataframe tbody tr th {\n",
       "        vertical-align: top;\n",
       "    }\n",
       "\n",
       "    .dataframe thead th {\n",
       "        text-align: right;\n",
       "    }\n",
       "</style>\n",
       "<table border=\"1\" class=\"dataframe\">\n",
       "  <thead>\n",
       "    <tr style=\"text-align: right;\">\n",
       "      <th></th>\n",
       "      <th>Клиент</th>\n",
       "      <th>Количество отправленных посылок с ОГ</th>\n",
       "    </tr>\n",
       "  </thead>\n",
       "  <tbody>\n",
       "    <tr>\n",
       "      <th>0</th>\n",
       "      <td>Клиент 869</td>\n",
       "      <td>267</td>\n",
       "    </tr>\n",
       "    <tr>\n",
       "      <th>1</th>\n",
       "      <td>Клиент 326</td>\n",
       "      <td>221</td>\n",
       "    </tr>\n",
       "    <tr>\n",
       "      <th>2</th>\n",
       "      <td>Клиент 350</td>\n",
       "      <td>103</td>\n",
       "    </tr>\n",
       "    <tr>\n",
       "      <th>3</th>\n",
       "      <td>Клиент 817</td>\n",
       "      <td>98</td>\n",
       "    </tr>\n",
       "    <tr>\n",
       "      <th>4</th>\n",
       "      <td>Клиент 194</td>\n",
       "      <td>91</td>\n",
       "    </tr>\n",
       "    <tr>\n",
       "      <th>5</th>\n",
       "      <td>Клиент 3691</td>\n",
       "      <td>83</td>\n",
       "    </tr>\n",
       "    <tr>\n",
       "      <th>6</th>\n",
       "      <td>Клиент 1901</td>\n",
       "      <td>80</td>\n",
       "    </tr>\n",
       "    <tr>\n",
       "      <th>7</th>\n",
       "      <td>Клиент 755</td>\n",
       "      <td>59</td>\n",
       "    </tr>\n",
       "    <tr>\n",
       "      <th>8</th>\n",
       "      <td>Клиент 741</td>\n",
       "      <td>42</td>\n",
       "    </tr>\n",
       "    <tr>\n",
       "      <th>9</th>\n",
       "      <td>Клиент 678</td>\n",
       "      <td>34</td>\n",
       "    </tr>\n",
       "  </tbody>\n",
       "</table>\n",
       "</div>"
      ],
      "text/plain": [
       "        Клиент  Количество отправленных посылок с ОГ\n",
       "0   Клиент 869                                   267\n",
       "1   Клиент 326                                   221\n",
       "2   Клиент 350                                   103\n",
       "3   Клиент 817                                    98\n",
       "4   Клиент 194                                    91\n",
       "5  Клиент 3691                                    83\n",
       "6  Клиент 1901                                    80\n",
       "7   Клиент 755                                    59\n",
       "8   Клиент 741                                    42\n",
       "9   Клиент 678                                    34"
      ]
     },
     "execution_count": 64,
     "metadata": {},
     "output_type": "execute_result"
    }
   ],
   "source": [
    "table_client.head(10)"
   ]
  },
  {
   "cell_type": "markdown",
   "id": "c435168a",
   "metadata": {},
   "source": [
    "### Подразделения, которые приняли больше всего посылок с ОГ:"
   ]
  },
  {
   "cell_type": "code",
   "execution_count": 65,
   "id": "192734ba",
   "metadata": {},
   "outputs": [
    {
     "data": {
      "text/html": [
       "<div>\n",
       "<style scoped>\n",
       "    .dataframe tbody tr th:only-of-type {\n",
       "        vertical-align: middle;\n",
       "    }\n",
       "\n",
       "    .dataframe tbody tr th {\n",
       "        vertical-align: top;\n",
       "    }\n",
       "\n",
       "    .dataframe thead th {\n",
       "        text-align: right;\n",
       "    }\n",
       "</style>\n",
       "<table border=\"1\" class=\"dataframe\">\n",
       "  <thead>\n",
       "    <tr style=\"text-align: right;\">\n",
       "      <th></th>\n",
       "      <th>Подразделение</th>\n",
       "      <th>Количество отправленных посылок с ОГ</th>\n",
       "    </tr>\n",
       "  </thead>\n",
       "  <tbody>\n",
       "    <tr>\n",
       "      <th>0</th>\n",
       "      <td>Подразделение 774</td>\n",
       "      <td>675</td>\n",
       "    </tr>\n",
       "    <tr>\n",
       "      <th>1</th>\n",
       "      <td>Подразделение 773</td>\n",
       "      <td>338</td>\n",
       "    </tr>\n",
       "    <tr>\n",
       "      <th>2</th>\n",
       "      <td>Подразделение 772</td>\n",
       "      <td>185</td>\n",
       "    </tr>\n",
       "    <tr>\n",
       "      <th>3</th>\n",
       "      <td>Подразделение 1533</td>\n",
       "      <td>98</td>\n",
       "    </tr>\n",
       "    <tr>\n",
       "      <th>4</th>\n",
       "      <td>Подразделение 1868</td>\n",
       "      <td>82</td>\n",
       "    </tr>\n",
       "    <tr>\n",
       "      <th>5</th>\n",
       "      <td>Подразделение 1534</td>\n",
       "      <td>51</td>\n",
       "    </tr>\n",
       "    <tr>\n",
       "      <th>6</th>\n",
       "      <td>Подразделение 985</td>\n",
       "      <td>48</td>\n",
       "    </tr>\n",
       "    <tr>\n",
       "      <th>7</th>\n",
       "      <td>Подразделение 940</td>\n",
       "      <td>39</td>\n",
       "    </tr>\n",
       "    <tr>\n",
       "      <th>8</th>\n",
       "      <td>Подразделение 527</td>\n",
       "      <td>33</td>\n",
       "    </tr>\n",
       "    <tr>\n",
       "      <th>9</th>\n",
       "      <td>Подразделение 1037</td>\n",
       "      <td>32</td>\n",
       "    </tr>\n",
       "  </tbody>\n",
       "</table>\n",
       "</div>"
      ],
      "text/plain": [
       "        Подразделение  Количество отправленных посылок с ОГ\n",
       "0   Подразделение 774                                   675\n",
       "1   Подразделение 773                                   338\n",
       "2   Подразделение 772                                   185\n",
       "3  Подразделение 1533                                    98\n",
       "4  Подразделение 1868                                    82\n",
       "5  Подразделение 1534                                    51\n",
       "6   Подразделение 985                                    48\n",
       "7   Подразделение 940                                    39\n",
       "8   Подразделение 527                                    33\n",
       "9  Подразделение 1037                                    32"
      ]
     },
     "execution_count": 65,
     "metadata": {},
     "output_type": "execute_result"
    }
   ],
   "source": [
    "table=df_all['Подразделение'].value_counts().head(10)\n",
    "table=table.reset_index()\n",
    "table.rename(columns={'count':'Количество отправленных посылок с ОГ'})"
   ]
  },
  {
   "cell_type": "markdown",
   "id": "7f42ac41",
   "metadata": {},
   "source": [
    "## Проанализируем вложения посылок"
   ]
  },
  {
   "cell_type": "markdown",
   "id": "f613275e",
   "metadata": {},
   "source": [
    "**Рассмотрим опасные грузы, которые встречаются чаще всего**"
   ]
  },
  {
   "cell_type": "code",
   "execution_count": 66,
   "id": "8e6084a3",
   "metadata": {},
   "outputs": [
    {
     "data": {
      "text/html": [
       "<div>\n",
       "<style scoped>\n",
       "    .dataframe tbody tr th:only-of-type {\n",
       "        vertical-align: middle;\n",
       "    }\n",
       "\n",
       "    .dataframe tbody tr th {\n",
       "        vertical-align: top;\n",
       "    }\n",
       "\n",
       "    .dataframe thead th {\n",
       "        text-align: right;\n",
       "    }\n",
       "</style>\n",
       "<table border=\"1\" class=\"dataframe\">\n",
       "  <thead>\n",
       "    <tr style=\"text-align: right;\">\n",
       "      <th></th>\n",
       "      <th>Описание вложения</th>\n",
       "      <th>count</th>\n",
       "    </tr>\n",
       "  </thead>\n",
       "  <tbody>\n",
       "    <tr>\n",
       "      <th>0</th>\n",
       "      <td>химическое вещество</td>\n",
       "      <td>1328</td>\n",
       "    </tr>\n",
       "    <tr>\n",
       "      <th>1</th>\n",
       "      <td>духи</td>\n",
       "      <td>1191</td>\n",
       "    </tr>\n",
       "    <tr>\n",
       "      <th>2</th>\n",
       "      <td>акб</td>\n",
       "      <td>751</td>\n",
       "    </tr>\n",
       "    <tr>\n",
       "      <th>3</th>\n",
       "      <td>косметика 9 класс</td>\n",
       "      <td>579</td>\n",
       "    </tr>\n",
       "    <tr>\n",
       "      <th>4</th>\n",
       "      <td>неизвестное вещество</td>\n",
       "      <td>529</td>\n",
       "    </tr>\n",
       "    <tr>\n",
       "      <th>5</th>\n",
       "      <td>аэрозоль</td>\n",
       "      <td>440</td>\n",
       "    </tr>\n",
       "    <tr>\n",
       "      <th>6</th>\n",
       "      <td>амортизатор</td>\n",
       "      <td>263</td>\n",
       "    </tr>\n",
       "    <tr>\n",
       "      <th>7</th>\n",
       "      <td>ароматизатор</td>\n",
       "      <td>253</td>\n",
       "    </tr>\n",
       "    <tr>\n",
       "      <th>8</th>\n",
       "      <td>автохимия</td>\n",
       "      <td>104</td>\n",
       "    </tr>\n",
       "    <tr>\n",
       "      <th>9</th>\n",
       "      <td>подушка безопасности</td>\n",
       "      <td>64</td>\n",
       "    </tr>\n",
       "    <tr>\n",
       "      <th>10</th>\n",
       "      <td>гсм</td>\n",
       "      <td>60</td>\n",
       "    </tr>\n",
       "    <tr>\n",
       "      <th>11</th>\n",
       "      <td>свеча</td>\n",
       "      <td>50</td>\n",
       "    </tr>\n",
       "    <tr>\n",
       "      <th>12</th>\n",
       "      <td>нож</td>\n",
       "      <td>37</td>\n",
       "    </tr>\n",
       "    <tr>\n",
       "      <th>13</th>\n",
       "      <td>клей</td>\n",
       "      <td>19</td>\n",
       "    </tr>\n",
       "    <tr>\n",
       "      <th>14</th>\n",
       "      <td>магнит</td>\n",
       "      <td>17</td>\n",
       "    </tr>\n",
       "    <tr>\n",
       "      <th>15</th>\n",
       "      <td>емкости</td>\n",
       "      <td>15</td>\n",
       "    </tr>\n",
       "    <tr>\n",
       "      <th>16</th>\n",
       "      <td>оборудование с фреоном</td>\n",
       "      <td>14</td>\n",
       "    </tr>\n",
       "    <tr>\n",
       "      <th>17</th>\n",
       "      <td>консервы</td>\n",
       "      <td>12</td>\n",
       "    </tr>\n",
       "    <tr>\n",
       "      <th>18</th>\n",
       "      <td>зажигалка</td>\n",
       "      <td>12</td>\n",
       "    </tr>\n",
       "    <tr>\n",
       "      <th>19</th>\n",
       "      <td>краска</td>\n",
       "      <td>11</td>\n",
       "    </tr>\n",
       "  </tbody>\n",
       "</table>\n",
       "</div>"
      ],
      "text/plain": [
       "         Описание вложения  count\n",
       "0      химическое вещество   1328\n",
       "1                     духи   1191\n",
       "2                      акб    751\n",
       "3        косметика 9 класс    579\n",
       "4     неизвестное вещество    529\n",
       "5                 аэрозоль    440\n",
       "6              амортизатор    263\n",
       "7             ароматизатор    253\n",
       "8                автохимия    104\n",
       "9     подушка безопасности     64\n",
       "10                     гсм     60\n",
       "11                   свеча     50\n",
       "12                     нож     37\n",
       "13                    клей     19\n",
       "14                  магнит     17\n",
       "15                 емкости     15\n",
       "16  оборудование с фреоном     14\n",
       "17                консервы     12\n",
       "18               зажигалка     12\n",
       "19                  краска     11"
      ]
     },
     "execution_count": 66,
     "metadata": {},
     "output_type": "execute_result"
    }
   ],
   "source": [
    "inside=df_all['Описание вложения'].value_counts()\n",
    "inside=inside.reset_index()\n",
    "inside.head(20)"
   ]
  },
  {
   "cell_type": "code",
   "execution_count": 67,
   "id": "423fd317",
   "metadata": {},
   "outputs": [],
   "source": [
    "for i in range(len(inside)):\n",
    "    if  inside['count'][i] <50:\n",
    "        inside['Описание вложения'][i]='Другое'   "
   ]
  },
  {
   "cell_type": "code",
   "execution_count": 68,
   "id": "53935a6b",
   "metadata": {},
   "outputs": [
    {
     "data": {
      "image/png": "[encoded data removed]",
      "text/plain": [
       "<Figure size 640x480 with 1 Axes>"
      ]
     },
     "metadata": {},
     "output_type": "display_data"
    }
   ],
   "source": [
    "inside=inside.sort_values('count')\n",
    "plt.barh(inside['Описание вложения'], inside['count'], label='Основные типы ОГ') #Параметр label позволяет задать название величины для легенды\n",
    "plt.xlabel('Количество посылок за месяц')\n",
    "plt.title('Популярные опасные вложения')\n",
    "plt.show()   "
   ]
  },
  {
   "cell_type": "markdown",
   "id": "b87416a7",
   "metadata": {},
   "source": [
    "**Изучаем причину задержки**"
   ]
  },
  {
   "cell_type": "code",
   "execution_count": 69,
   "id": "0ac84772",
   "metadata": {},
   "outputs": [
    {
     "data": {
      "text/html": [
       "<div>\n",
       "<style scoped>\n",
       "    .dataframe tbody tr th:only-of-type {\n",
       "        vertical-align: middle;\n",
       "    }\n",
       "\n",
       "    .dataframe tbody tr th {\n",
       "        vertical-align: top;\n",
       "    }\n",
       "\n",
       "    .dataframe thead th {\n",
       "        text-align: right;\n",
       "    }\n",
       "</style>\n",
       "<table border=\"1\" class=\"dataframe\">\n",
       "  <thead>\n",
       "    <tr style=\"text-align: right;\">\n",
       "      <th></th>\n",
       "      <th>Причина задержки</th>\n",
       "      <th>count</th>\n",
       "    </tr>\n",
       "  </thead>\n",
       "  <tbody>\n",
       "    <tr>\n",
       "      <th>0</th>\n",
       "      <td>груз отстранен из-за отсутствия надбавки за оп...</td>\n",
       "      <td>2478</td>\n",
       "    </tr>\n",
       "    <tr>\n",
       "      <th>1</th>\n",
       "      <td>груз отстранен из-за ошибки в выборе транспорт...</td>\n",
       "      <td>1917</td>\n",
       "    </tr>\n",
       "    <tr>\n",
       "      <th>2</th>\n",
       "      <td>груз отстранен из-за отсутствия документов</td>\n",
       "      <td>1608</td>\n",
       "    </tr>\n",
       "    <tr>\n",
       "      <th>3</th>\n",
       "      <td>запрещенный к перевозке груз</td>\n",
       "      <td>76</td>\n",
       "    </tr>\n",
       "    <tr>\n",
       "      <th>4</th>\n",
       "      <td>прочее</td>\n",
       "      <td>19</td>\n",
       "    </tr>\n",
       "  </tbody>\n",
       "</table>\n",
       "</div>"
      ],
      "text/plain": [
       "                                    Причина задержки  count\n",
       "0  груз отстранен из-за отсутствия надбавки за оп...   2478\n",
       "1  груз отстранен из-за ошибки в выборе транспорт...   1917\n",
       "2         груз отстранен из-за отсутствия документов   1608\n",
       "3                       запрещенный к перевозке груз     76\n",
       "4                                             прочее     19"
      ]
     },
     "execution_count": 69,
     "metadata": {},
     "output_type": "execute_result"
    }
   ],
   "source": [
    "reason=df_all['Причина задержки'].value_counts()\n",
    "reason=reason.reset_index()\n",
    "reason"
   ]
  },
  {
   "cell_type": "code",
   "execution_count": 70,
   "id": "cc866d69",
   "metadata": {},
   "outputs": [
    {
     "data": {
      "image/png": "[encoded data removed]",
      "text/plain": [
       "<Figure size 1000x1500 with 1 Axes>"
      ]
     },
     "metadata": {},
     "output_type": "display_data"
    }
   ],
   "source": [
    "df_all.groupby(['Причина задержки']).count().plot(kind='pie', y='Накладная',autopct='%1.0f%%',\n",
    "       colors = ['m', 'turquoise', 'b','pink','r'],title='Причина задержки',figsize=(10, 15))\n",
    "plt.legend(loc='lower left')\n",
    "plt.show()"
   ]
  },
  {
   "cell_type": "markdown",
   "id": "f30b7600",
   "metadata": {},
   "source": [
    "**Видим, что 41 % посылок были задержаны из-за отсуствия надбавки за опасный груз. 26% из-за отсуствия документов, 31% из-за ошибки в выборе транспортной схемы, около 1 % это запрещенный груз и прочее.**"
   ]
  },
  {
   "cell_type": "markdown",
   "id": "9629e841",
   "metadata": {},
   "source": [
    "## Сохраняем готовый отчёт"
   ]
  },
  {
   "cell_type": "code",
   "execution_count": 71,
   "id": "96c8fec3",
   "metadata": {},
   "outputs": [],
   "source": [
    "df_all.to_excel (r'C:/Users/Natalya/Desktop/Отчеты по ОГ/Готовый отчет.xlsx', index= False )"
   ]
  }
 ],
 "metadata": {
  "kernelspec": {
   "display_name": "Python 3 (ipykernel)",
   "language": "python",
   "name": "python3"
  },
  "language_info": {
   "codemirror_mode": {
    "name": "ipython",
    "version": 3
   },
   "file_extension": ".py",
   "mimetype": "text/x-python",
   "name": "python",
   "nbconvert_exporter": "python",
   "pygments_lexer": "ipython3",
   "version": "3.11.5"
  }
 },
 "nbformat": 4,
 "nbformat_minor": 5
}
